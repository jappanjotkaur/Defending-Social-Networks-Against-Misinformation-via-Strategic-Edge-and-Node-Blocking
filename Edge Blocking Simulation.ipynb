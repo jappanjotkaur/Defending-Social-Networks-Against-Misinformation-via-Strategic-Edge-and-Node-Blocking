{
 "cells": [
  {
   "cell_type": "markdown",
   "metadata": {},
   "source": [
    "# Import Packages And Functions"
   ]
  },
  {
   "cell_type": "code",
   "execution_count": 1,
   "metadata": {},
   "outputs": [
    {
     "name": "stdout",
     "output_type": "stream",
     "text": [
      "✅ Dataset converted and saved as 'edges_ogbn-proteins.txt'\n"
     ]
    }
   ],
   "source": [
    "# 🛠 Monkey patch torch.load to fix PyTorch 2.6+ issue with weights_only=True\n",
    "import torch\n",
    "old_load = torch.load\n",
    "torch.load = lambda *args, **kwargs: old_load(*args, **{**kwargs, 'weights_only': False})\n",
    "\n",
    "# 📥 Load the dataset from OGB\n",
    "from ogb.nodeproppred import NodePropPredDataset\n",
    "\n",
    "# Load ogbn-proteins graph and labels\n",
    "dataset = NodePropPredDataset(name='ogbn-proteins')\n",
    "graph, labels = dataset[0]\n",
    "\n",
    "# 🎯 Extract edges and one feature as weights\n",
    "edge_index = graph['edge_index']  # shape: [2, num_edges]\n",
    "edge_feat = graph['edge_feat']    # shape: [num_edges, 8]\n",
    "\n",
    "# Use the first edge feature (or mean across all features)\n",
    "weights = edge_feat[:, 0]  # ✅ Already a NumPy array\n",
    "\n",
    "# 💾 Save to file in your expected format: \"source target weight\"\n",
    "with open('../data/edges_ogbn-proteins.txt', 'w') as f:\n",
    "    for i in range(edge_index.shape[1]):\n",
    "        src = int(edge_index[0, i])\n",
    "        dst = int(edge_index[1, i])\n",
    "        wt = float(weights[i])\n",
    "        f.write(f\"{src} {dst} {wt:.6f}\\n\")\n",
    "\n",
    "print(\"✅ Dataset converted and saved as 'edges_ogbn-proteins.txt'\")\n"
   ]
  },
  {
   "cell_type": "code",
   "execution_count": 2,
   "metadata": {},
   "outputs": [],
   "source": [
    "# Packages\n",
    "import sys; sys.path.append('..')\n",
    "from Code.data import data_load\n",
    "import Code.influence as influence\n",
    "import Code.block_edges as be\n",
    "import Code.communities as communities\n",
    "import networkx as nx"
   ]
  },
  {
   "cell_type": "markdown",
   "metadata": {},
   "source": [
    "# Load The Dataset"
   ]
  },
  {
   "cell_type": "code",
   "execution_count": 1,
   "metadata": {},
   "outputs": [
    {
     "name": "stdout",
     "output_type": "stream",
     "text": [
      "✅ Saved reduced dataset with 4000 edges.\n"
     ]
    }
   ],
   "source": [
    "# Required libraries\n",
    "from ogb.nodeproppred import NodePropPredDataset\n",
    "import torch\n",
    "\n",
    "# Monkey patch to fix PyTorch 2.6+ weights_only issue\n",
    "old_load = torch.load\n",
    "torch.load = lambda *args, **kwargs: old_load(*args, **{**kwargs, 'weights_only': False})\n",
    "\n",
    "# Load OGBN-Proteins dataset\n",
    "dataset = NodePropPredDataset(name='ogbn-proteins')\n",
    "graph, labels = dataset[0]\n",
    "\n",
    "edge_index = graph['edge_index']\n",
    "edge_feat = graph['edge_feat']\n",
    "weights = edge_feat[:, 0]  # First feature as weight\n",
    "\n",
    "# Limit to first 50,000 edges to avoid MemoryError\n",
    "with open('../data/edges_ogbn-proteins.txt', 'w') as f:\n",
    "    for i in range(4000):\n",
    "        src = int(edge_index[0, i])\n",
    "        dst = int(edge_index[1, i])\n",
    "        wt = float(weights[i])\n",
    "        f.write(f\"{src} {dst} {wt:.6f}\\n\")\n",
    "\n",
    "print(\"✅ Saved reduced dataset with 4000 edges.\")\n"
   ]
  },
  {
   "cell_type": "markdown",
   "metadata": {},
   "source": [
    "# Average Number Of Nodes Infected Initially"
   ]
  },
  {
   "cell_type": "code",
   "execution_count": 2,
   "metadata": {},
   "outputs": [],
   "source": [
    "import sys\n",
    "sys.path.append('..')  # Only needed if you're outside the \"Code\" folder\n",
    "\n",
    "from Code import influence  # ✅ This will make influence.* available\n"
   ]
  },
  {
   "cell_type": "code",
   "execution_count": 3,
   "metadata": {},
   "outputs": [
    {
     "name": "stdout",
     "output_type": "stream",
     "text": [
      "Number of Nodes: 2037\n",
      "Number of Edges: 4000\n",
      "✅ Graph created: 2037 nodes, 2000 edges\n"
     ]
    }
   ],
   "source": [
    "import sys\n",
    "sys.path.append('..')  # go one level up where \"Code\" folder is\n",
    "\n",
    "import networkx as nx\n",
    "from Code.data import data_load  # your existing loader\n",
    "\n",
    "# Load the reduced dataset from file\n",
    "path = '../data/edges_ogbn-proteins.txt'\n",
    "nodes, edges, weights = data_load(path)\n",
    "\n",
    "# Now build the graph safely\n",
    "graph = nx.Graph()\n",
    "min_wt = min(weights.values())\n",
    "eps = min_wt * 0.001\n",
    "wt_factor = 1\n",
    "\n",
    "for e in edges:\n",
    "    graph.add_edge(e[0], e[1],\n",
    "                   weight=weights[e] / wt_factor,\n",
    "                   distance=1 - weights[e] + eps)\n",
    "\n",
    "print(\"✅ Graph created:\", len(graph.nodes), \"nodes,\", len(graph.edges), \"edges\")\n"
   ]
  },
  {
   "cell_type": "code",
   "execution_count": 4,
   "metadata": {},
   "outputs": [
    {
     "data": {
      "text/plain": [
       "networkx.classes.graph.Graph"
      ]
     },
     "execution_count": 4,
     "metadata": {},
     "output_type": "execute_result"
    }
   ],
   "source": [
    "type(graph)\n"
   ]
  },
  {
   "cell_type": "code",
   "execution_count": 5,
   "metadata": {},
   "outputs": [
    {
     "name": "stdout",
     "output_type": "stream",
     "text": [
      "✅ ICM Simulation Completed\n",
      "Nodes Infected = 464.38\n",
      "Infection Percentage = 22.80%\n"
     ]
    }
   ],
   "source": [
    "from Code import influence  # Import your influence module\n",
    "\n",
    "# Set parameters\n",
    "init_rate = 0.01\n",
    "iters = 50\n",
    "\n",
    "# Run simulation\n",
    "a = influence.influence_count_multiple(graph, init_rate, iters)\n",
    "b = 100 * (a / len(graph.nodes))\n",
    "\n",
    "# Output result\n",
    "print(\"✅ ICM Simulation Completed\")\n",
    "print(\"Nodes Infected =\", a)\n",
    "print(\"Infection Percentage = {:.2f}%\".format(b))\n"
   ]
  },
  {
   "cell_type": "code",
   "execution_count": 44,
   "metadata": {},
   "outputs": [
    {
     "name": "stdout",
     "output_type": "stream",
     "text": [
      "✅ ICM Simulation Completed\n",
      "Initial Infected Nodes: [29264, 75601, 34657, 52635, 104025, 69754, 60076, 54037, 71584, 65508, 102751, 86573, 129206, 117364, 86418, 42290, 69051, 33869, 66260, 90086]\n",
      "Nodes Infected = 536.54\n",
      "Infection Percentage = 26.34%\n"
     ]
    }
   ],
   "source": [
    "\n",
    "from Code import influence  # Import your influence module\n",
    "import random\n",
    "\n",
    "# Set parameters\n",
    "init_rate = 0.01  # 1% initially infected\n",
    "iters = 50\n",
    "\n",
    "# Convert graph.nodes to a list\n",
    "nodes_list = list(graph.nodes)\n",
    "\n",
    "# Identify initial infected nodes\n",
    "num_initial_infected = int(len(nodes_list) * init_rate)\n",
    "initial_infected_nodes = random.sample(nodes_list, num_initial_infected)\n",
    "\n",
    "# Run simulation (this will simulate infection propagation)\n",
    "a = influence.influence_count_multiple(graph, init_rate, iters)\n",
    "\n",
    "# Calculate infection percentage\n",
    "b = 100 * (a / len(graph.nodes))\n",
    "\n",
    "# Output results\n",
    "print(\"✅ ICM Simulation Completed\")\n",
    "print(\"Initial Infected Nodes:\", initial_infected_nodes)  # Show initial infected nodes\n",
    "print(\"Nodes Infected =\", a)\n",
    "print(\"Infection Percentage = {:.2f}%\".format(b))\n",
    "\n"
   ]
  },
  {
   "cell_type": "markdown",
   "metadata": {},
   "source": [
    "# RNDM Method\n",
    "Randomly removes edges"
   ]
  },
  {
   "cell_type": "code",
   "execution_count": 6,
   "metadata": {},
   "outputs": [
    {
     "name": "stdout",
     "output_type": "stream",
     "text": [
      "🧱 After Blocking Edges Randomly:\n",
      "Nodes Infected = 523.64\n",
      "Infection Percentage = 25.71%\n"
     ]
    }
   ],
   "source": [
    "from Code import block_edges as be\n",
    "\n",
    "# Random blocking\n",
    "output = be.RNDM(graph)\n",
    "blocked_graph = be.rem_edges(graph.copy(), output, k=0.01)\n",
    "\n",
    "a = influence.influence_count_multiple(blocked_graph, init_rate, iters)\n",
    "b = 100 * (a / len(graph.nodes))\n",
    "\n",
    "print(\"🧱 After Blocking Edges Randomly:\")\n",
    "print(\"Nodes Infected =\", a)\n",
    "print(\"Infection Percentage = {:.2f}%\".format(b))\n"
   ]
  },
  {
   "cell_type": "markdown",
   "metadata": {},
   "source": [
    "# HWT Method\n",
    "Removes edges with the highest weight"
   ]
  },
  {
   "cell_type": "code",
   "execution_count": 7,
   "metadata": {},
   "outputs": [
    {
     "name": "stdout",
     "output_type": "stream",
     "text": [
      "🔗 After Blocking Edges With Highest Weight (HWGT):\n",
      "Nodes Infected = 564.44\n",
      "Infection Percentage = 27.71%\n"
     ]
    }
   ],
   "source": [
    "from Code import block_edges as be\n",
    "\n",
    "# 🔧 Apply HWGT method (block edges with highest weights)\n",
    "output = be.HWGT(graph)\n",
    "blocked_graph = be.rem_edges(graph.copy(), output, k=0.01)\n",
    "\n",
    "# 🧪 Run the ICM after blocking\n",
    "a = influence.influence_count_multiple(blocked_graph, init_rate, iters)\n",
    "b = 100 * (a / len(graph.nodes))\n",
    "\n",
    "# 📊 Display results\n",
    "print(\"🔗 After Blocking Edges With Highest Weight (HWGT):\")\n",
    "print(f\"Nodes Infected = {a:.2f}\")\n",
    "print(f\"Infection Percentage = {b:.2f}%\")\n"
   ]
  },
  {
   "cell_type": "markdown",
   "metadata": {},
   "source": [
    "# DEG Method\n",
    "Blocks edges where the sum of degrees of adjacent nodes is highest."
   ]
  },
  {
   "cell_type": "code",
   "execution_count": 8,
   "metadata": {},
   "outputs": [
    {
     "name": "stdout",
     "output_type": "stream",
     "text": [
      "📐 After Blocking Edges With Highest Degree Sum (HDEG):\n",
      "Nodes Infected = 520.92\n",
      "Infection Percentage = 25.57%\n"
     ]
    }
   ],
   "source": [
    "from Code import block_edges as be\n",
    "\n",
    "# 🔧 Apply HDEG method (block edges with highest sum of adjacent node degrees)\n",
    "output = be.HDEG(graph)\n",
    "blocked_graph = be.rem_edges(graph.copy(), output, k=0.01)\n",
    "\n",
    "# 🧪 Run the ICM after blocking\n",
    "a = influence.influence_count_multiple(blocked_graph, init_rate, iters)\n",
    "b = 100 * (a / len(graph.nodes))\n",
    "\n",
    "# 📊 Display results\n",
    "print(\"📐 After Blocking Edges With Highest Degree Sum (HDEG):\")\n",
    "print(f\"Nodes Infected = {a:.2f}\")\n",
    "print(f\"Infection Percentage = {b:.2f}%\")\n"
   ]
  },
  {
   "cell_type": "markdown",
   "metadata": {},
   "source": [
    "# WDEG Method\n",
    "Blocks edges with the highest weighted sum of degrees."
   ]
  },
  {
   "cell_type": "code",
   "execution_count": 9,
   "metadata": {},
   "outputs": [
    {
     "name": "stdout",
     "output_type": "stream",
     "text": [
      "⚖️ After Blocking Edges With Highest Weighted Degree Sum (WDEG):\n",
      "Nodes Infected = 510.12\n",
      "Infection Percentage = 25.04%\n"
     ]
    }
   ],
   "source": [
    "from Code import block_edges as be\n",
    "\n",
    "# 🔧 Apply WDEG method (block edges with highest sum of weighted degrees of adjacent nodes)\n",
    "output = be.WDEG(graph)\n",
    "blocked_graph = be.rem_edges(graph.copy(), output, k=0.01)\n",
    "\n",
    "# 🧪 Run the ICM after blocking\n",
    "a = influence.influence_count_multiple(blocked_graph, init_rate, iters)\n",
    "b = 100 * (a / len(graph.nodes))\n",
    "\n",
    "# 📊 Display results\n",
    "print(\"⚖️ After Blocking Edges With Highest Weighted Degree Sum (WDEG):\")\n",
    "print(f\"Nodes Infected = {a:.2f}\")\n",
    "print(f\"Infection Percentage = {b:.2f}%\")\n"
   ]
  },
  {
   "cell_type": "markdown",
   "metadata": {},
   "source": [
    "# CLO Method\n",
    "Blocks edges between central nodes."
   ]
  },
  {
   "cell_type": "code",
   "execution_count": 10,
   "metadata": {},
   "outputs": [
    {
     "name": "stdout",
     "output_type": "stream",
     "text": [
      "📍 After Blocking Edges With Highest Closeness Centrality Sum (CLO):\n",
      "Nodes Infected = 543.20\n",
      "Infection Percentage = 26.67%\n"
     ]
    }
   ],
   "source": [
    "from Code import block_edges as be\n",
    "\n",
    "# 🔧 Apply CLO method (block edges with highest sum of closeness of adjacent nodes)\n",
    "output = be.CLO(graph)\n",
    "blocked_graph = be.rem_edges(graph.copy(), output, k=0.01)\n",
    "\n",
    "# 🧪 Run the ICM after blocking\n",
    "a = influence.influence_count_multiple(blocked_graph, init_rate, iters)\n",
    "b = 100 * (a / len(graph.nodes))\n",
    "\n",
    "# 📊 Display results\n",
    "print(\"📍 After Blocking Edges With Highest Closeness Centrality Sum (CLO):\")\n",
    "print(f\"Nodes Infected = {a:.2f}\")\n",
    "print(f\"Infection Percentage = {b:.2f}%\")\n"
   ]
  },
  {
   "cell_type": "markdown",
   "metadata": {},
   "source": [
    "# WCLO Method\n",
    "Blocks edges where the weighted closeness of adjacent nodes is high."
   ]
  },
  {
   "cell_type": "code",
   "execution_count": 11,
   "metadata": {},
   "outputs": [
    {
     "name": "stdout",
     "output_type": "stream",
     "text": [
      "📶 After Blocking Edges With Highest Weighted Closeness Centrality Sum (WCLO):\n",
      "Nodes Infected = 557.04\n",
      "Infection Percentage = 27.35%\n"
     ]
    }
   ],
   "source": [
    "from Code import block_edges as be\n",
    "\n",
    "# 🔧 Apply WCLO method (block edges with highest sum of weighted closeness of adjacent nodes)\n",
    "output = be.WCLO(graph)\n",
    "blocked_graph = be.rem_edges(graph.copy(), output, k=0.01)\n",
    "\n",
    "# 🧪 Run the ICM after blocking\n",
    "a = influence.influence_count_multiple(blocked_graph, init_rate, iters)\n",
    "b = 100 * (a / len(graph.nodes))\n",
    "\n",
    "# 📊 Display results\n",
    "print(\"📶 After Blocking Edges With Highest Weighted Closeness Centrality Sum (WCLO):\")\n",
    "print(f\"Nodes Infected = {a:.2f}\")\n",
    "print(f\"Infection Percentage = {b:.2f}%\")\n"
   ]
  },
  {
   "cell_type": "markdown",
   "metadata": {},
   "source": [
    "# BET Method\n",
    "Blocks edges with highest betweenness centrality."
   ]
  },
  {
   "cell_type": "code",
   "execution_count": 12,
   "metadata": {},
   "outputs": [
    {
     "name": "stdout",
     "output_type": "stream",
     "text": [
      "🔀 After Blocking Edges With Highest Betweenness Centrality (BET):\n",
      "Nodes Infected = 521.74\n",
      "Infection Percentage = 25.61%\n"
     ]
    }
   ],
   "source": [
    "from Code import block_edges as be\n",
    "\n",
    "# 🔧 Apply BET method (block edges with highest betweenness centrality)\n",
    "output = be.BTWN(graph)\n",
    "blocked_graph = be.rem_edges(graph.copy(), output, k=0.01)\n",
    "\n",
    "# 🧪 Run the ICM after blocking\n",
    "a = influence.influence_count_multiple(blocked_graph, init_rate, iters)\n",
    "b = 100 * (a / len(graph.nodes))\n",
    "\n",
    "# 📊 Display results\n",
    "print(\"🔀 After Blocking Edges With Highest Betweenness Centrality (BET):\")\n",
    "print(f\"Nodes Infected = {a:.2f}\")\n",
    "print(f\"Infection Percentage = {b:.2f}%\")\n"
   ]
  },
  {
   "cell_type": "markdown",
   "metadata": {},
   "source": [
    "# WBET Method\n",
    "Blocks high-weight edges with high betweenness."
   ]
  },
  {
   "cell_type": "code",
   "execution_count": 13,
   "metadata": {},
   "outputs": [
    {
     "name": "stdout",
     "output_type": "stream",
     "text": [
      "💡 After Blocking Edges With Highest Weighted Betweenness Centrality (WBET):\n",
      "Nodes Infected = 470.56\n",
      "Infection Percentage = 23.10%\n"
     ]
    }
   ],
   "source": [
    "from Code import block_edges as be\n",
    "\n",
    "# 🔧 Apply WBET method (block edges with highest weighted betweenness centrality)\n",
    "output = be.WBET(graph)\n",
    "blocked_graph = be.rem_edges(graph.copy(), output, k=0.01)\n",
    "\n",
    "# 🧪 Run the ICM after blocking\n",
    "a = influence.influence_count_multiple(blocked_graph, init_rate, iters)\n",
    "b = 100 * (a / len(graph.nodes))\n",
    "\n",
    "# 📊 Display results\n",
    "print(\"💡 After Blocking Edges With Highest Weighted Betweenness Centrality (WBET):\")\n",
    "print(f\"Nodes Infected = {a:.2f}\")\n",
    "print(f\"Infection Percentage = {b:.2f}%\")\n"
   ]
  },
  {
   "cell_type": "markdown",
   "metadata": {},
   "source": [
    "# PGRK Method\n",
    "Blocks edges between nodes with high PageRank scores."
   ]
  },
  {
   "cell_type": "code",
   "execution_count": 14,
   "metadata": {},
   "outputs": [
    {
     "name": "stdout",
     "output_type": "stream",
     "text": [
      "📎 After Blocking Edges With Highest Sum of PageRank of Adjacent Nodes (PGRK):\n",
      "Nodes Infected = 608.88\n",
      "Infection Percentage = 29.89%\n"
     ]
    }
   ],
   "source": [
    "from Code import block_edges as be\n",
    "\n",
    "# 🔧 Apply PGRK method (block edges between nodes with highest combined PageRank)\n",
    "output = be.PGRK(graph)\n",
    "blocked_graph = be.rem_edges(graph.copy(), output, k=0.01)\n",
    "\n",
    "# 🧪 Run the ICM after blocking\n",
    "a = influence.influence_count_multiple(blocked_graph, init_rate, iters)\n",
    "b = 100 * (a / len(graph.nodes))\n",
    "\n",
    "# 📊 Display results\n",
    "print(\"📎 After Blocking Edges With Highest Sum of PageRank of Adjacent Nodes (PGRK):\")\n",
    "print(f\"Nodes Infected = {a:.2f}\")\n",
    "print(f\"Infection Percentage = {b:.2f}%\")\n"
   ]
  },
  {
   "cell_type": "markdown",
   "metadata": {},
   "source": [
    "# IEED Method\n",
    "Uses an iterative entropy-based approach."
   ]
  },
  {
   "cell_type": "code",
   "execution_count": 15,
   "metadata": {},
   "outputs": [
    {
     "name": "stdout",
     "output_type": "stream",
     "text": [
      "Edges removed:  40\n",
      "🧠 After Blocking Edges Using Iterative Entropy-Based Edge Deletion (IEED):\n",
      "Nodes Infected = 526.76\n",
      "Infection Percentage = 25.86%\n"
     ]
    }
   ],
   "source": [
    "from Code import block_edges as be\n",
    "import networkx as nx\n",
    "k = 0.01\n",
    "# 🔧 Apply IEED method (remove edges using entropy and efficiency-based ranking)\n",
    "edge_list = be.IEED_remove_edges(nodes.copy(), edges.copy(), weights, k)\n",
    "\n",
    "# 🌐 Rebuild the graph after removing selected edges\n",
    "final_graph = nx.Graph()\n",
    "min_wt = min(weights.values())\n",
    "eps = min_wt * 0.001\n",
    "wt_factor = 1\n",
    "\n",
    "for e in edge_list:\n",
    "    final_graph.add_edge(e[0], e[1],\n",
    "                         weight=weights[e] / wt_factor,\n",
    "                         distance=1 - weights[e] + eps)\n",
    "\n",
    "# 🧪 Run ICM after blocking\n",
    "a = influence.influence_count_multiple(final_graph, init_rate, iters)\n",
    "b = 100 * (a / len(nodes))\n",
    "\n",
    "# 📊 Display results\n",
    "print(\"🧠 After Blocking Edges Using Iterative Entropy-Based Edge Deletion (IEED):\")\n",
    "print(f\"Nodes Infected = {a:.2f}\")\n",
    "print(f\"Infection Percentage = {b:.2f}%\")\n"
   ]
  },
  {
   "cell_type": "code",
   "execution_count": 16,
   "metadata": {},
   "outputs": [
    {
     "name": "stdout",
     "output_type": "stream",
     "text": [
      "🌐 After Blocking Edges Connecting High K-Core Nodes:\n",
      "Nodes Infected = 442.84\n",
      "Infection Percentage = 21.74%\n"
     ]
    }
   ],
   "source": [
    "# K-Core Edge Blocking\n",
    "from Code import block_edges as be\n",
    "output = be.KCORE(graph)\n",
    "blocked_graph = be.rem_edges(graph.copy(), output, k)\n",
    "\n",
    "a = influence.influence_count_multiple(blocked_graph, init_rate, iters)\n",
    "b = 100 * (a / len(nodes))\n",
    "print(\"🌐 After Blocking Edges Connecting High K-Core Nodes:\")\n",
    "print(f\"Nodes Infected = {a:.2f}\")\n",
    "print(f\"Infection Percentage = {b:.2f}%\")\n"
   ]
  },
  {
   "cell_type": "code",
   "execution_count": 20,
   "metadata": {},
   "outputs": [
    {
     "name": "stdout",
     "output_type": "stream",
     "text": [
      "Edges removed:  120\n",
      "🧬 Final Hybrid Blocking (IEED + Community):\n",
      "Edges Removed = 120\n",
      "Nodes Infected = 28.10\n",
      "Infection Percentage = 1.38%\n"
     ]
    }
   ],
   "source": [
    "#Hybrid Blocking (IEED + Community):\n",
    "from Code import communities\n",
    "# ✅ Parameters to tune\n",
    "init_rate = 0.0005     # Smaller fraction of seed nodes\n",
    "k = 0.03               # Block 3% of edges instead of 1%\n",
    "iters = 10             # Number of ICM simulation runs\n",
    "\n",
    "# ✅ Get IEED and Community-based edges\n",
    "ieed_edges = be.IEED_remove_edges(nodes.copy(), edges.copy(), weights, k)\n",
    "comm = communities.detect_communities(graph, 0.15)\n",
    "conn_edges, _, _ = communities.connecting_edges(comm, graph)\n",
    "\n",
    "# ✅ Combine both edge lists (union OR intersection)\n",
    "# Option A: Use union of edges (more aggressive)\n",
    "combined = list(set(ieed_edges + conn_edges))\n",
    "\n",
    "# Option B: Use only overlapping critical edges (more selective)\n",
    "# combined = list(set(ieed_edges).intersection(set(conn_edges)))\n",
    "\n",
    "# ✅ Trim to top-k fraction\n",
    "combined = combined[:int(k * len(edges))]\n",
    "\n",
    "# ✅ Remove selected edges from graph\n",
    "hybrid_graph = graph.copy()\n",
    "hybrid_graph.remove_edges_from(combined)\n",
    "\n",
    "# ✅ Run ICM after edge removal\n",
    "a = influence.influence_count_multiple(hybrid_graph, init_rate, iters)\n",
    "b = 100 * (a / len(nodes))\n",
    "\n",
    "# ✅ Output results\n",
    "print(\"🧬 Final Hybrid Blocking (IEED + Community):\")\n",
    "print(f\"Edges Removed = {len(combined)}\")\n",
    "print(f\"Nodes Infected = {a:.2f}\")\n",
    "print(f\"Infection Percentage = {b:.2f}%\")\n"
   ]
  },
  {
   "cell_type": "code",
   "execution_count": 22,
   "metadata": {},
   "outputs": [
    {
     "name": "stdout",
     "output_type": "stream",
     "text": [
      "💧 Soft Blocking via Weight Reduction:\n",
      "Nodes Infected = 1.50\n",
      "Infection Percentage = 0.07%\n"
     ]
    }
   ],
   "source": [
    "# EDGE WEIGHT REDUCTION (Soft Blocking)\n",
    "def apply_weight_soft_blocking(graph, edge_list, factor=0.2):\n",
    "    reduced_graph = graph.copy()\n",
    "    for u, v in edge_list:\n",
    "        if reduced_graph.has_edge(u, v):\n",
    "            reduced_graph[u][v]['weight'] *= factor\n",
    "            reduced_graph[u][v]['distance'] = 1 - reduced_graph[u][v]['weight']\n",
    "    return reduced_graph\n",
    "\n",
    "output = be.HDEG(graph)  # or any other method to get edge list\n",
    "soft_blocked_graph = apply_weight_soft_blocking(graph, output, factor=0.2)\n",
    "\n",
    "a = influence.influence_count_multiple(soft_blocked_graph, init_rate, iters)\n",
    "b = 100 * (a / len(graph.nodes))\n",
    "\n",
    "print(\"💧 Soft Blocking via Weight Reduction:\")\n",
    "print(f\"Nodes Infected = {a:.2f}\")\n",
    "print(f\"Infection Percentage = {b:.2f}%\")"
   ]
  },
  {
   "cell_type": "code",
   "execution_count": 23,
   "metadata": {},
   "outputs": [],
   "source": [
    "# ✅ VERIFIER ASSIGNMENT STRATEGY\n",
    "\n",
    "# Step 1: Find Connecting Edges Between Communities\n",
    "def detect_connecting_edges(graph, resolution=0.15):\n",
    "    comm = communities.detect_communities(graph, resolution)\n",
    "    conn_edges, _, _ = communities.connecting_edges(comm, graph)\n",
    "    return conn_edges\n",
    "\n",
    "# Step 2: Assign Verifiers to Key Connecting Nodes\n",
    "def assign_verifiers_on_connectors(graph, conn_edges, k):\n",
    "    graph_conn = nx.Graph(conn_edges)\n",
    "    deg = nx.degree_centrality(graph_conn)\n",
    "\n",
    "    n = len(graph_conn.nodes()) - 1 if len(graph_conn.nodes()) > 1 else 1\n",
    "    for i in deg:\n",
    "        deg[i] = round(deg[i] * n)\n",
    "\n",
    "    verifier_nodes = []\n",
    "    remaining = 0\n",
    "    for _ in range(int(k * len(graph.nodes()))):\n",
    "        if not deg:\n",
    "            break\n",
    "        key_max = max(zip(deg.values(), deg.keys()))[1]\n",
    "        if deg[key_max] == 0:\n",
    "            remaining += 1\n",
    "            break\n",
    "        verifier_nodes.append(key_max)\n",
    "        for neighbor in graph_conn.neighbors(key_max):\n",
    "            deg[neighbor] -= 1\n",
    "        graph_conn.remove_node(key_max)\n",
    "        del deg[key_max]\n",
    "\n",
    "    if remaining > 0:\n",
    "        remaining_nodes = list(set(graph.nodes()) - set(verifier_nodes))\n",
    "        verifier_nodes.extend(remaining_nodes[:remaining])\n",
    "\n",
    "    for node in graph.nodes():\n",
    "        graph.nodes[node][\"verifier\"] = 1 if node in verifier_nodes else 0\n",
    "\n",
    "    return graph, verifier_nodes\n",
    "\n",
    "# Step 3: Run Strategy + ICM Evaluation\n",
    "def run_verifier_strategy(graph, init_rate=0.001, iters=10, k=0.01, resolution=0.15):\n",
    "    conn_edges = detect_connecting_edges(graph, resolution)\n",
    "    graph_with_verifiers, verifiers = assign_verifiers_on_connectors(graph.copy(), conn_edges, k)\n",
    "\n",
    "    print(f\"🔐 Verifiers Assigned to {len(verifiers)} Nodes\")\n",
    "\n",
    "    # Run ICM simulation\n",
    "    a = influence.influence_count_multiple(graph_with_verifiers, init_rate, iters)\n",
    "    b = 100 * (a / len(graph_with_verifiers.nodes))\n",
    "    print(\"🧪 ICM Evaluation After Verifier Assignment:\")\n",
    "    print(f\"Nodes Infected = {a:.2f}\")\n",
    "    print(f\"Infection Percentage = {b:.2f}%\")\n",
    "\n",
    "    return graph_with_verifiers, a, b\n"
   ]
  },
  {
   "cell_type": "code",
   "execution_count": 26,
   "metadata": {},
   "outputs": [
    {
     "name": "stdout",
     "output_type": "stream",
     "text": [
      "🔐 Verifiers Assigned to 0 Nodes\n",
      "🧪 ICM Evaluation After Verifier Assignment:\n",
      "Nodes Infected = 87.00\n",
      "Infection Percentage = 4.27%\n"
     ]
    },
    {
     "data": {
      "text/plain": [
       "<networkx.classes.graph.Graph at 0x1fd5625d310>"
      ]
     },
     "execution_count": 26,
     "metadata": {},
     "output_type": "execute_result"
    }
   ],
   "source": [
    "def run_verifier_strategy(graph, init_rate=0.001, iters=10, k=0.01, resolution=0.15):\n",
    "    conn_edges = detect_connecting_edges(graph, resolution)\n",
    "    graph_with_verifiers, verifiers = assign_verifiers_on_connectors(graph.copy(), conn_edges, k)\n",
    "\n",
    "    print(f\"🔐 Verifiers Assigned to {len(verifiers)} Nodes\")\n",
    "\n",
    "    # Run ICM simulation\n",
    "    a = influence.influence_count_multiple(graph_with_verifiers, init_rate, iters)\n",
    "    b = 100 * (a / len(graph_with_verifiers.nodes))\n",
    "    print(\"🧪 ICM Evaluation After Verifier Assignment:\")\n",
    "    print(f\"Nodes Infected = {a:.2f}\")\n",
    "    print(f\"Infection Percentage = {b:.2f}%\")\n",
    "\n",
    "    return graph_with_verifiers\n",
    "\n",
    "# 🔁 Call it right after defining\n",
    "run_verifier_strategy(graph, init_rate=0.001, iters=10, k=0.01)\n"
   ]
  },
  {
   "cell_type": "code",
   "execution_count": 28,
   "metadata": {},
   "outputs": [
    {
     "name": "stdout",
     "output_type": "stream",
     "text": [
      "🔄 Rewired 0 edges to verifiers/low-degree nodes\n",
      "📉 ICM Evaluation After Rewiring:\n",
      "Nodes Infected = 9.20\n",
      "Infection Percentage = 0.45%\n"
     ]
    }
   ],
   "source": [
    "# ✅ Required Imports\n",
    "import networkx as nx\n",
    "import random\n",
    "from Code import influence, communities\n",
    "\n",
    "# ✅ Function to Rewire Edges\n",
    "def edge_redirection_with_icm(graph, conn_edges, init_rate=0.001, iters=10, num_to_rewire=50):\n",
    "    graph = graph.copy()\n",
    "    rewired = 0\n",
    "\n",
    "    # Find potential redirect targets: verifiers or low-degree nodes\n",
    "    verifiers = [n for n in graph.nodes if graph.nodes[n].get(\"verifier\") == 1]\n",
    "    low_deg_nodes = sorted(graph.degree, key=lambda x: x[1])[:len(graph) // 10]\n",
    "    low_influence_targets = [n for n, _ in low_deg_nodes]\n",
    "\n",
    "    for u, v in conn_edges:\n",
    "        if rewired >= num_to_rewire or not graph.has_edge(u, v):\n",
    "            continue\n",
    "        graph.remove_edge(u, v)\n",
    "        target = random.choice(verifiers or low_influence_targets)\n",
    "        graph.add_edge(u, target, weight=0.1, distance=1 - 0.1 + 0.001)\n",
    "        rewired += 1\n",
    "\n",
    "    print(f\"🔄 Rewired {rewired} edges to verifiers/low-degree nodes\")\n",
    "\n",
    "    # ✅ Run ICM simulation\n",
    "    a = influence.influence_count_multiple(graph, init_rate, iters)\n",
    "    b = 100 * (a / len(graph.nodes))\n",
    "\n",
    "    print(\"📉 ICM Evaluation After Rewiring:\")\n",
    "    print(f\"Nodes Infected = {a:.2f}\")\n",
    "    print(f\"Infection Percentage = {b:.2f}%\")\n",
    "    \n",
    "    return graph\n",
    "\n",
    "# ✅ Step 1: Detect community connecting edges\n",
    "resolution = 0.15\n",
    "comm = communities.detect_communities(graph, resolution)\n",
    "conn_edges, _, _ = communities.connecting_edges(comm, graph)\n",
    "\n",
    "# ✅ Step 2: Run edge redirection strategy with ICM\n",
    "graph_after_rewire = edge_redirection_with_icm(\n",
    "    graph,\n",
    "    conn_edges=conn_edges,\n",
    "    init_rate=0.0005,  # Set as needed\n",
    "    iters=10,\n",
    "    num_to_rewire=50\n",
    ")\n"
   ]
  },
  {
   "cell_type": "markdown",
   "metadata": {},
   "source": [
    "# Community Method"
   ]
  },
  {
   "cell_type": "markdown",
   "metadata": {},
   "source": [
    "## Community Detection And Edge Removal"
   ]
  },
  {
   "cell_type": "code",
   "execution_count": 40,
   "metadata": {},
   "outputs": [
    {
     "name": "stdout",
     "output_type": "stream",
     "text": [
      "🔹 Fraction of connecting edges at resolution 0.1500: 0.0000\n",
      "🔹 Fraction of connecting edges at resolution 0.1500: 0.0000\n",
      "🔹 Fraction of connecting edges at resolution 0.1500: 0.0000\n",
      "🔹 Fraction of connecting edges at resolution 0.1500: 0.0000\n",
      "🔹 Fraction of connecting edges at resolution 0.1500: 0.0000\n",
      "➡️ Updated resolution: 0.1575\n",
      "🔹 Fraction of connecting edges at resolution 0.1575: 0.0000\n",
      "🔹 Fraction of connecting edges at resolution 0.1575: 0.0000\n",
      "🔹 Fraction of connecting edges at resolution 0.1575: 0.0000\n",
      "🔹 Fraction of connecting edges at resolution 0.1575: 0.0000\n",
      "🔹 Fraction of connecting edges at resolution 0.1575: 0.0000\n",
      "➡️ Updated resolution: 0.1654\n",
      "🔹 Fraction of connecting edges at resolution 0.1654: 0.0000\n",
      "🔹 Fraction of connecting edges at resolution 0.1654: 0.0000\n",
      "🔹 Fraction of connecting edges at resolution 0.1654: 0.0000\n",
      "🔹 Fraction of connecting edges at resolution 0.1654: 0.0000\n",
      "🔹 Fraction of connecting edges at resolution 0.1654: 0.0000\n",
      "➡️ Updated resolution: 0.1736\n",
      "🔹 Fraction of connecting edges at resolution 0.1736: 0.0000\n",
      "🔹 Fraction of connecting edges at resolution 0.1736: 0.0000\n",
      "🔹 Fraction of connecting edges at resolution 0.1736: 0.0000\n",
      "🔹 Fraction of connecting edges at resolution 0.1736: 0.0000\n",
      "🔹 Fraction of connecting edges at resolution 0.1736: 0.0000\n",
      "➡️ Updated resolution: 0.1823\n",
      "🔹 Fraction of connecting edges at resolution 0.1823: 0.0000\n",
      "🔹 Fraction of connecting edges at resolution 0.1823: 0.0000\n",
      "🔹 Fraction of connecting edges at resolution 0.1823: 0.0000\n",
      "🔹 Fraction of connecting edges at resolution 0.1823: 0.0000\n",
      "🔹 Fraction of connecting edges at resolution 0.1823: 0.0000\n",
      "➡️ Updated resolution: 0.1914\n",
      "🔹 Fraction of connecting edges at resolution 0.1914: 0.0000\n",
      "🔹 Fraction of connecting edges at resolution 0.1914: 0.0000\n",
      "🔹 Fraction of connecting edges at resolution 0.1914: 0.0000\n",
      "🔹 Fraction of connecting edges at resolution 0.1914: 0.0000\n",
      "🔹 Fraction of connecting edges at resolution 0.1914: 0.0000\n",
      "➡️ Updated resolution: 0.201\n",
      "🔹 Fraction of connecting edges at resolution 0.2010: 0.0000\n",
      "🔹 Fraction of connecting edges at resolution 0.2010: 0.0000\n",
      "🔹 Fraction of connecting edges at resolution 0.2010: 0.0000\n",
      "🔹 Fraction of connecting edges at resolution 0.2010: 0.0000\n",
      "🔹 Fraction of connecting edges at resolution 0.2010: 0.0000\n",
      "➡️ Updated resolution: 0.2111\n",
      "🔹 Fraction of connecting edges at resolution 0.2111: 0.0000\n",
      "🔹 Fraction of connecting edges at resolution 0.2111: 0.0000\n",
      "🔹 Fraction of connecting edges at resolution 0.2111: 0.0000\n",
      "🔹 Fraction of connecting edges at resolution 0.2111: 0.0000\n",
      "🔹 Fraction of connecting edges at resolution 0.2111: 0.0000\n",
      "➡️ Updated resolution: 0.2216\n",
      "🔹 Fraction of connecting edges at resolution 0.2216: 0.0000\n",
      "🔹 Fraction of connecting edges at resolution 0.2216: 0.0000\n",
      "🔹 Fraction of connecting edges at resolution 0.2216: 0.0000\n",
      "🔹 Fraction of connecting edges at resolution 0.2216: 0.0000\n",
      "🔹 Fraction of connecting edges at resolution 0.2216: 0.0000\n",
      "➡️ Updated resolution: 0.2327\n",
      "🔹 Fraction of connecting edges at resolution 0.2327: 0.0000\n",
      "🔹 Fraction of connecting edges at resolution 0.2327: 0.0000\n",
      "🔹 Fraction of connecting edges at resolution 0.2327: 0.0000\n",
      "🔹 Fraction of connecting edges at resolution 0.2327: 0.0000\n",
      "🔹 Fraction of connecting edges at resolution 0.2327: 0.0000\n",
      "➡️ Updated resolution: 0.2443\n",
      "🔹 Fraction of connecting edges at resolution 0.2443: 0.0000\n",
      "🔹 Fraction of connecting edges at resolution 0.2443: 0.0000\n",
      "🔹 Fraction of connecting edges at resolution 0.2443: 0.0000\n",
      "🔹 Fraction of connecting edges at resolution 0.2443: 0.0000\n",
      "🔹 Fraction of connecting edges at resolution 0.2443: 0.0000\n",
      "➡️ Updated resolution: 0.2566\n",
      "🔹 Fraction of connecting edges at resolution 0.2566: 0.0000\n",
      "🔹 Fraction of connecting edges at resolution 0.2566: 0.0000\n",
      "🔹 Fraction of connecting edges at resolution 0.2566: 0.0000\n",
      "🔹 Fraction of connecting edges at resolution 0.2566: 0.0000\n",
      "🔹 Fraction of connecting edges at resolution 0.2566: 0.0000\n",
      "➡️ Updated resolution: 0.2694\n",
      "🔹 Fraction of connecting edges at resolution 0.2694: 0.0000\n",
      "🔹 Fraction of connecting edges at resolution 0.2694: 0.0000\n",
      "🔹 Fraction of connecting edges at resolution 0.2694: 0.0000\n",
      "🔹 Fraction of connecting edges at resolution 0.2694: 0.0000\n",
      "🔹 Fraction of connecting edges at resolution 0.2694: 0.0000\n",
      "➡️ Updated resolution: 0.2828\n",
      "🔹 Fraction of connecting edges at resolution 0.2828: 0.0000\n",
      "🔹 Fraction of connecting edges at resolution 0.2828: 0.0000\n",
      "🔹 Fraction of connecting edges at resolution 0.2828: 0.0000\n",
      "🔹 Fraction of connecting edges at resolution 0.2828: 0.0000\n",
      "🔹 Fraction of connecting edges at resolution 0.2828: 0.0000\n",
      "➡️ Updated resolution: 0.297\n",
      "🔹 Fraction of connecting edges at resolution 0.2970: 0.0000\n",
      "🔹 Fraction of connecting edges at resolution 0.2970: 0.0000\n",
      "🔹 Fraction of connecting edges at resolution 0.2970: 0.0000\n",
      "🔹 Fraction of connecting edges at resolution 0.2970: 0.0000\n",
      "🔹 Fraction of connecting edges at resolution 0.2970: 0.0000\n",
      "➡️ Updated resolution: 0.3118\n",
      "🔹 Fraction of connecting edges at resolution 0.3118: 0.0000\n",
      "🔹 Fraction of connecting edges at resolution 0.3118: 0.0000\n",
      "🔹 Fraction of connecting edges at resolution 0.3118: 0.0000\n",
      "🔹 Fraction of connecting edges at resolution 0.3118: 0.0000\n",
      "🔹 Fraction of connecting edges at resolution 0.3118: 0.0000\n",
      "➡️ Updated resolution: 0.3274\n",
      "🔹 Fraction of connecting edges at resolution 0.3274: 0.0000\n",
      "🔹 Fraction of connecting edges at resolution 0.3274: 0.0000\n",
      "🔹 Fraction of connecting edges at resolution 0.3274: 0.0000\n",
      "🔹 Fraction of connecting edges at resolution 0.3274: 0.0000\n",
      "🔹 Fraction of connecting edges at resolution 0.3274: 0.0000\n",
      "➡️ Updated resolution: 0.3438\n",
      "🔹 Fraction of connecting edges at resolution 0.3438: 0.0000\n",
      "🔹 Fraction of connecting edges at resolution 0.3438: 0.0000\n",
      "🔹 Fraction of connecting edges at resolution 0.3438: 0.0000\n",
      "🔹 Fraction of connecting edges at resolution 0.3438: 0.0000\n",
      "🔹 Fraction of connecting edges at resolution 0.3438: 0.0000\n",
      "➡️ Updated resolution: 0.361\n",
      "🔹 Fraction of connecting edges at resolution 0.3610: 0.0000\n",
      "🔹 Fraction of connecting edges at resolution 0.3610: 0.0000\n",
      "🔹 Fraction of connecting edges at resolution 0.3610: 0.0000\n",
      "🔹 Fraction of connecting edges at resolution 0.3610: 0.0000\n",
      "🔹 Fraction of connecting edges at resolution 0.3610: 0.0000\n",
      "➡️ Updated resolution: 0.379\n",
      "🔹 Fraction of connecting edges at resolution 0.3790: 0.0000\n",
      "🔹 Fraction of connecting edges at resolution 0.3790: 0.0000\n",
      "🔹 Fraction of connecting edges at resolution 0.3790: 0.0000\n",
      "🔹 Fraction of connecting edges at resolution 0.3790: 0.0000\n",
      "🔹 Fraction of connecting edges at resolution 0.3790: 0.0000\n",
      "➡️ Updated resolution: 0.398\n",
      "🔹 Fraction of connecting edges at resolution 0.3980: 0.0000\n",
      "🔹 Fraction of connecting edges at resolution 0.3980: 0.0000\n",
      "🔹 Fraction of connecting edges at resolution 0.3980: 0.0000\n",
      "🔹 Fraction of connecting edges at resolution 0.3980: 0.0000\n",
      "🔹 Fraction of connecting edges at resolution 0.3980: 0.0000\n",
      "➡️ Updated resolution: 0.4179\n",
      "🔹 Fraction of connecting edges at resolution 0.4179: 0.0000\n",
      "🔹 Fraction of connecting edges at resolution 0.4179: 0.0000\n",
      "🔹 Fraction of connecting edges at resolution 0.4179: 0.0000\n",
      "🔹 Fraction of connecting edges at resolution 0.4179: 0.0000\n",
      "🔹 Fraction of connecting edges at resolution 0.4179: 0.0000\n",
      "➡️ Updated resolution: 0.4388\n",
      "🔹 Fraction of connecting edges at resolution 0.4388: 0.0000\n",
      "🔹 Fraction of connecting edges at resolution 0.4388: 0.0000\n",
      "🔹 Fraction of connecting edges at resolution 0.4388: 0.0000\n",
      "🔹 Fraction of connecting edges at resolution 0.4388: 0.0000\n",
      "🔹 Fraction of connecting edges at resolution 0.4388: 0.0000\n",
      "➡️ Updated resolution: 0.4607\n",
      "🔹 Fraction of connecting edges at resolution 0.4607: 0.0000\n",
      "🔹 Fraction of connecting edges at resolution 0.4607: 0.0000\n",
      "🔹 Fraction of connecting edges at resolution 0.4607: 0.0000\n",
      "🔹 Fraction of connecting edges at resolution 0.4607: 0.0000\n",
      "🔹 Fraction of connecting edges at resolution 0.4607: 0.0000\n",
      "➡️ Updated resolution: 0.4838\n",
      "🔹 Fraction of connecting edges at resolution 0.4838: 0.0000\n",
      "🔹 Fraction of connecting edges at resolution 0.4838: 0.0000\n",
      "🔹 Fraction of connecting edges at resolution 0.4838: 0.0000\n",
      "🔹 Fraction of connecting edges at resolution 0.4838: 0.0000\n",
      "🔹 Fraction of connecting edges at resolution 0.4838: 0.0000\n",
      "➡️ Updated resolution: 0.508\n",
      "🔹 Fraction of connecting edges at resolution 0.5080: 0.0000\n",
      "🔹 Fraction of connecting edges at resolution 0.5080: 0.0000\n",
      "🔹 Fraction of connecting edges at resolution 0.5080: 0.0000\n",
      "🔹 Fraction of connecting edges at resolution 0.5080: 0.0000\n",
      "🔹 Fraction of connecting edges at resolution 0.5080: 0.0000\n",
      "➡️ Updated resolution: 0.5334\n",
      "🔹 Fraction of connecting edges at resolution 0.5334: 0.0000\n",
      "🔹 Fraction of connecting edges at resolution 0.5334: 0.0000\n",
      "🔹 Fraction of connecting edges at resolution 0.5334: 0.0000\n",
      "🔹 Fraction of connecting edges at resolution 0.5334: 0.0000\n",
      "🔹 Fraction of connecting edges at resolution 0.5334: 0.0000\n",
      "➡️ Updated resolution: 0.56\n",
      "🔹 Fraction of connecting edges at resolution 0.5600: 0.0000\n",
      "🔹 Fraction of connecting edges at resolution 0.5600: 0.0000\n",
      "🔹 Fraction of connecting edges at resolution 0.5600: 0.0000\n",
      "🔹 Fraction of connecting edges at resolution 0.5600: 0.0000\n",
      "🔹 Fraction of connecting edges at resolution 0.5600: 0.0000\n",
      "➡️ Updated resolution: 0.588\n",
      "🔹 Fraction of connecting edges at resolution 0.5880: 0.0000\n",
      "🔹 Fraction of connecting edges at resolution 0.5880: 0.0000\n",
      "🔹 Fraction of connecting edges at resolution 0.5880: 0.0000\n",
      "🔹 Fraction of connecting edges at resolution 0.5880: 0.0000\n",
      "🔹 Fraction of connecting edges at resolution 0.5880: 0.0000\n",
      "➡️ Updated resolution: 0.6174\n",
      "🔹 Fraction of connecting edges at resolution 0.6174: 0.0000\n",
      "🔹 Fraction of connecting edges at resolution 0.6174: 0.0000\n",
      "🔹 Fraction of connecting edges at resolution 0.6174: 0.0000\n",
      "🔹 Fraction of connecting edges at resolution 0.6174: 0.0000\n",
      "🔹 Fraction of connecting edges at resolution 0.6174: 0.0000\n",
      "➡️ Updated resolution: 0.6483\n",
      "🔹 Fraction of connecting edges at resolution 0.6483: 0.0000\n",
      "🔹 Fraction of connecting edges at resolution 0.6483: 0.0000\n",
      "🔹 Fraction of connecting edges at resolution 0.6483: 0.0000\n",
      "🔹 Fraction of connecting edges at resolution 0.6483: 0.0000\n",
      "🔹 Fraction of connecting edges at resolution 0.6483: 0.0000\n",
      "➡️ Updated resolution: 0.6807\n",
      "🔹 Fraction of connecting edges at resolution 0.6807: 0.0000\n",
      "🔹 Fraction of connecting edges at resolution 0.6807: 0.0000\n",
      "🔹 Fraction of connecting edges at resolution 0.6807: 0.0000\n",
      "🔹 Fraction of connecting edges at resolution 0.6807: 0.0000\n",
      "🔹 Fraction of connecting edges at resolution 0.6807: 0.0000\n",
      "➡️ Updated resolution: 0.7147\n",
      "🔹 Fraction of connecting edges at resolution 0.7147: 0.0000\n",
      "🔹 Fraction of connecting edges at resolution 0.7147: 0.0000\n",
      "🔹 Fraction of connecting edges at resolution 0.7147: 0.0000\n",
      "🔹 Fraction of connecting edges at resolution 0.7147: 0.0000\n",
      "🔹 Fraction of connecting edges at resolution 0.7147: 0.0000\n",
      "➡️ Updated resolution: 0.7505\n",
      "🔹 Fraction of connecting edges at resolution 0.7505: 0.0000\n",
      "🔹 Fraction of connecting edges at resolution 0.7505: 0.0000\n",
      "🔹 Fraction of connecting edges at resolution 0.7505: 0.0000\n",
      "🔹 Fraction of connecting edges at resolution 0.7505: 0.0000\n",
      "🔹 Fraction of connecting edges at resolution 0.7505: 0.0000\n",
      "➡️ Updated resolution: 0.788\n",
      "🔹 Fraction of connecting edges at resolution 0.7880: 0.0000\n",
      "🔹 Fraction of connecting edges at resolution 0.7880: 0.0000\n",
      "🔹 Fraction of connecting edges at resolution 0.7880: 0.0000\n",
      "🔹 Fraction of connecting edges at resolution 0.7880: 0.0000\n",
      "🔹 Fraction of connecting edges at resolution 0.7880: 0.0000\n",
      "➡️ Updated resolution: 0.8274\n",
      "🔹 Fraction of connecting edges at resolution 0.8274: 0.0000\n",
      "🔹 Fraction of connecting edges at resolution 0.8274: 0.0000\n",
      "🔹 Fraction of connecting edges at resolution 0.8274: 0.0000\n",
      "🔹 Fraction of connecting edges at resolution 0.8274: 0.0000\n",
      "🔹 Fraction of connecting edges at resolution 0.8274: 0.0000\n",
      "➡️ Updated resolution: 0.8688\n",
      "🔹 Fraction of connecting edges at resolution 0.8688: 0.0000\n",
      "🔹 Fraction of connecting edges at resolution 0.8688: 0.0000\n",
      "🔹 Fraction of connecting edges at resolution 0.8688: 0.0000\n",
      "🔹 Fraction of connecting edges at resolution 0.8688: 0.0000\n",
      "🔹 Fraction of connecting edges at resolution 0.8688: 0.0000\n",
      "➡️ Updated resolution: 0.9122\n",
      "🔹 Fraction of connecting edges at resolution 0.9122: 0.0000\n",
      "🔹 Fraction of connecting edges at resolution 0.9122: 0.0000\n",
      "🔹 Fraction of connecting edges at resolution 0.9122: 0.0000\n",
      "🔹 Fraction of connecting edges at resolution 0.9122: 0.0000\n",
      "🔹 Fraction of connecting edges at resolution 0.9122: 0.0000\n",
      "➡️ Updated resolution: 0.9578\n",
      "🔹 Fraction of connecting edges at resolution 0.9578: 0.0000\n",
      "🔹 Fraction of connecting edges at resolution 0.9578: 0.0000\n",
      "🔹 Fraction of connecting edges at resolution 0.9578: 0.0000\n",
      "🔹 Fraction of connecting edges at resolution 0.9578: 0.0000\n",
      "🔹 Fraction of connecting edges at resolution 0.9578: 0.0000\n",
      "➡️ Updated resolution: 1.0057\n",
      "🔹 Fraction of connecting edges at resolution 1.0057: 0.0000\n",
      "🔹 Fraction of connecting edges at resolution 1.0057: 0.0000\n",
      "🔹 Fraction of connecting edges at resolution 1.0057: 0.0000\n",
      "🔹 Fraction of connecting edges at resolution 1.0057: 0.0000\n",
      "🔹 Fraction of connecting edges at resolution 1.0057: 0.0000\n",
      "➡️ Updated resolution: 1.056\n",
      "🔹 Fraction of connecting edges at resolution 1.0560: 0.0000\n",
      "🔹 Fraction of connecting edges at resolution 1.0560: 0.0000\n",
      "🔹 Fraction of connecting edges at resolution 1.0560: 0.0000\n",
      "🔹 Fraction of connecting edges at resolution 1.0560: 0.0000\n",
      "🔹 Fraction of connecting edges at resolution 1.0560: 0.0000\n",
      "➡️ Updated resolution: 1.1088\n",
      "🔹 Fraction of connecting edges at resolution 1.1088: 0.0000\n",
      "🔹 Fraction of connecting edges at resolution 1.1088: 0.0000\n",
      "🔹 Fraction of connecting edges at resolution 1.1088: 0.0000\n",
      "🔹 Fraction of connecting edges at resolution 1.1088: 0.0000\n",
      "🔹 Fraction of connecting edges at resolution 1.1088: 0.0000\n",
      "➡️ Updated resolution: 1.1642\n",
      "🔹 Fraction of connecting edges at resolution 1.1642: 0.0000\n",
      "🔹 Fraction of connecting edges at resolution 1.1642: 0.0000\n",
      "🔹 Fraction of connecting edges at resolution 1.1642: 0.0000\n",
      "🔹 Fraction of connecting edges at resolution 1.1642: 0.0000\n",
      "🔹 Fraction of connecting edges at resolution 1.1642: 0.0000\n",
      "➡️ Updated resolution: 1.2225\n",
      "🔹 Fraction of connecting edges at resolution 1.2225: 0.0000\n",
      "🔹 Fraction of connecting edges at resolution 1.2225: 0.0000\n",
      "🔹 Fraction of connecting edges at resolution 1.2225: 0.0000\n",
      "🔹 Fraction of connecting edges at resolution 1.2225: 0.0000\n",
      "🔹 Fraction of connecting edges at resolution 1.2225: 0.0000\n",
      "➡️ Updated resolution: 1.2836\n",
      "🔹 Fraction of connecting edges at resolution 1.2836: 0.0000\n",
      "🔹 Fraction of connecting edges at resolution 1.2836: 0.0000\n",
      "🔹 Fraction of connecting edges at resolution 1.2836: 0.0000\n",
      "🔹 Fraction of connecting edges at resolution 1.2836: 0.0000\n",
      "🔹 Fraction of connecting edges at resolution 1.2836: 0.0000\n",
      "➡️ Updated resolution: 1.3478\n",
      "🔹 Fraction of connecting edges at resolution 1.3478: 0.0000\n",
      "🔹 Fraction of connecting edges at resolution 1.3478: 0.0000\n",
      "🔹 Fraction of connecting edges at resolution 1.3478: 0.0000\n",
      "🔹 Fraction of connecting edges at resolution 1.3478: 0.0000\n",
      "🔹 Fraction of connecting edges at resolution 1.3478: 0.0000\n",
      "➡️ Updated resolution: 1.4151\n",
      "🔹 Fraction of connecting edges at resolution 1.4151: 0.0000\n",
      "🔹 Fraction of connecting edges at resolution 1.4151: 0.0000\n",
      "🔹 Fraction of connecting edges at resolution 1.4151: 0.0000\n",
      "🔹 Fraction of connecting edges at resolution 1.4151: 0.0000\n",
      "🔹 Fraction of connecting edges at resolution 1.4151: 0.0000\n",
      "➡️ Updated resolution: 1.4859\n",
      "🔹 Fraction of connecting edges at resolution 1.4859: 0.0000\n",
      "🔹 Fraction of connecting edges at resolution 1.4859: 0.0000\n",
      "🔹 Fraction of connecting edges at resolution 1.4859: 0.0000\n",
      "🔹 Fraction of connecting edges at resolution 1.4859: 0.0000\n",
      "🔹 Fraction of connecting edges at resolution 1.4859: 0.0000\n",
      "➡️ Updated resolution: 1.5602\n",
      "🔹 Fraction of connecting edges at resolution 1.5602: 0.0000\n",
      "🔹 Fraction of connecting edges at resolution 1.5602: 0.0000\n",
      "🔹 Fraction of connecting edges at resolution 1.5602: 0.0000\n",
      "🔹 Fraction of connecting edges at resolution 1.5602: 0.0000\n",
      "🔹 Fraction of connecting edges at resolution 1.5602: 0.0000\n",
      "➡️ Updated resolution: 1.6382\n",
      "🔹 Fraction of connecting edges at resolution 1.6382: 0.0000\n",
      "🔹 Fraction of connecting edges at resolution 1.6382: 0.0000\n",
      "🔹 Fraction of connecting edges at resolution 1.6382: 0.0000\n",
      "🔹 Fraction of connecting edges at resolution 1.6382: 0.0000\n",
      "🔹 Fraction of connecting edges at resolution 1.6382: 0.0000\n",
      "➡️ Updated resolution: 1.7201\n",
      "🔹 Fraction of connecting edges at resolution 1.7201: 0.0000\n",
      "🔹 Fraction of connecting edges at resolution 1.7201: 0.0000\n",
      "🔹 Fraction of connecting edges at resolution 1.7201: 0.0000\n",
      "🔹 Fraction of connecting edges at resolution 1.7201: 0.0000\n",
      "🔹 Fraction of connecting edges at resolution 1.7201: 0.0000\n",
      "➡️ Updated resolution: 1.8061\n",
      "🔹 Fraction of connecting edges at resolution 1.8061: 0.0000\n",
      "🔹 Fraction of connecting edges at resolution 1.8061: 0.0000\n",
      "🔹 Fraction of connecting edges at resolution 1.8061: 0.0000\n",
      "🔹 Fraction of connecting edges at resolution 1.8061: 0.0000\n",
      "🔹 Fraction of connecting edges at resolution 1.8061: 0.0000\n",
      "➡️ Updated resolution: 1.8964\n",
      "🔹 Fraction of connecting edges at resolution 1.8964: 0.0000\n",
      "🔹 Fraction of connecting edges at resolution 1.8964: 0.0000\n",
      "🔹 Fraction of connecting edges at resolution 1.8964: 0.0000\n",
      "🔹 Fraction of connecting edges at resolution 1.8964: 0.0000\n",
      "🔹 Fraction of connecting edges at resolution 1.8964: 0.0000\n",
      "➡️ Updated resolution: 1.9912\n",
      "🔹 Fraction of connecting edges at resolution 1.9912: 0.0000\n",
      "🔹 Fraction of connecting edges at resolution 1.9912: 0.0000\n",
      "🔹 Fraction of connecting edges at resolution 1.9912: 0.0000\n",
      "🔹 Fraction of connecting edges at resolution 1.9912: 0.0000\n",
      "🔹 Fraction of connecting edges at resolution 1.9912: 0.0000\n",
      "➡️ Updated resolution: 2.0908\n",
      "🔹 Fraction of connecting edges at resolution 2.0908: 0.0000\n",
      "🔹 Fraction of connecting edges at resolution 2.0908: 0.0000\n",
      "🔹 Fraction of connecting edges at resolution 2.0908: 0.0000\n",
      "🔹 Fraction of connecting edges at resolution 2.0908: 0.0000\n",
      "🔹 Fraction of connecting edges at resolution 2.0908: 0.0000\n",
      "➡️ Updated resolution: 2.1953\n",
      "🔹 Fraction of connecting edges at resolution 2.1953: 0.0000\n",
      "🔹 Fraction of connecting edges at resolution 2.1953: 0.0000\n",
      "🔹 Fraction of connecting edges at resolution 2.1953: 0.0000\n",
      "🔹 Fraction of connecting edges at resolution 2.1953: 0.0000\n",
      "🔹 Fraction of connecting edges at resolution 2.1953: 0.0000\n",
      "➡️ Updated resolution: 2.3051\n",
      "🔹 Fraction of connecting edges at resolution 2.3051: 0.0000\n",
      "🔹 Fraction of connecting edges at resolution 2.3051: 0.0000\n",
      "🔹 Fraction of connecting edges at resolution 2.3051: 0.0000\n",
      "🔹 Fraction of connecting edges at resolution 2.3051: 0.0000\n",
      "🔹 Fraction of connecting edges at resolution 2.3051: 0.0000\n",
      "➡️ Updated resolution: 2.4204\n",
      "🔹 Fraction of connecting edges at resolution 2.4204: 0.0000\n",
      "🔹 Fraction of connecting edges at resolution 2.4204: 0.0000\n",
      "🔹 Fraction of connecting edges at resolution 2.4204: 0.0000\n",
      "🔹 Fraction of connecting edges at resolution 2.4204: 0.0000\n",
      "🔹 Fraction of connecting edges at resolution 2.4204: 0.0000\n",
      "➡️ Updated resolution: 2.5414\n",
      "🔹 Fraction of connecting edges at resolution 2.5414: 0.0000\n",
      "🔹 Fraction of connecting edges at resolution 2.5414: 0.0000\n",
      "🔹 Fraction of connecting edges at resolution 2.5414: 0.0000\n",
      "🔹 Fraction of connecting edges at resolution 2.5414: 0.0000\n",
      "🔹 Fraction of connecting edges at resolution 2.5414: 0.0000\n",
      "➡️ Updated resolution: 2.6685\n",
      "🔹 Fraction of connecting edges at resolution 2.6685: 0.0000\n",
      "🔹 Fraction of connecting edges at resolution 2.6685: 0.0000\n",
      "🔹 Fraction of connecting edges at resolution 2.6685: 0.0000\n",
      "🔹 Fraction of connecting edges at resolution 2.6685: 0.0000\n",
      "🔹 Fraction of connecting edges at resolution 2.6685: 0.0000\n",
      "➡️ Updated resolution: 2.8019\n",
      "🔹 Fraction of connecting edges at resolution 2.8019: 0.0000\n",
      "🔹 Fraction of connecting edges at resolution 2.8019: 0.0000\n",
      "🔹 Fraction of connecting edges at resolution 2.8019: 0.0000\n",
      "🔹 Fraction of connecting edges at resolution 2.8019: 0.0000\n",
      "🔹 Fraction of connecting edges at resolution 2.8019: 0.0000\n",
      "➡️ Updated resolution: 2.942\n",
      "🔹 Fraction of connecting edges at resolution 2.9420: 0.0000\n",
      "🔹 Fraction of connecting edges at resolution 2.9420: 0.0000\n",
      "🔹 Fraction of connecting edges at resolution 2.9420: 0.0000\n",
      "🔹 Fraction of connecting edges at resolution 2.9420: 0.0000\n",
      "🔹 Fraction of connecting edges at resolution 2.9420: 0.0000\n",
      "➡️ Updated resolution: 3.0891\n",
      "🔹 Fraction of connecting edges at resolution 3.0891: 0.0000\n",
      "🔹 Fraction of connecting edges at resolution 3.0891: 0.0000\n",
      "🔹 Fraction of connecting edges at resolution 3.0891: 0.0000\n",
      "🔹 Fraction of connecting edges at resolution 3.0891: 0.0000\n",
      "🔹 Fraction of connecting edges at resolution 3.0891: 0.0000\n",
      "➡️ Updated resolution: 3.2435\n",
      "🔹 Fraction of connecting edges at resolution 3.2435: 0.0000\n",
      "🔹 Fraction of connecting edges at resolution 3.2435: 0.0000\n",
      "🔹 Fraction of connecting edges at resolution 3.2435: 0.0000\n",
      "🔹 Fraction of connecting edges at resolution 3.2435: 0.0000\n",
      "🔹 Fraction of connecting edges at resolution 3.2435: 0.0000\n",
      "➡️ Updated resolution: 3.4057\n",
      "🔹 Fraction of connecting edges at resolution 3.4057: 0.0000\n",
      "🔹 Fraction of connecting edges at resolution 3.4057: 0.0000\n",
      "🔹 Fraction of connecting edges at resolution 3.4057: 0.0000\n",
      "🔹 Fraction of connecting edges at resolution 3.4057: 0.0000\n",
      "🔹 Fraction of connecting edges at resolution 3.4057: 0.0000\n",
      "➡️ Updated resolution: 3.576\n",
      "🔹 Fraction of connecting edges at resolution 3.5760: 0.0118\n",
      "🔹 Fraction of connecting edges at resolution 3.5760: 0.0118\n",
      "🔹 Fraction of connecting edges at resolution 3.5760: 0.0118\n",
      "🔹 Fraction of connecting edges at resolution 3.5760: 0.0118\n",
      "🔹 Fraction of connecting edges at resolution 3.5760: 0.0118\n",
      "➡️ Updated resolution: 3.7548\n",
      "🔹 Fraction of connecting edges at resolution 3.7548: 0.0250\n",
      "🔹 Fraction of connecting edges at resolution 3.7548: 0.0250\n",
      "🔹 Fraction of connecting edges at resolution 3.7548: 0.0250\n",
      "🔹 Fraction of connecting edges at resolution 3.7548: 0.0250\n",
      "🔹 Fraction of connecting edges at resolution 3.7548: 0.0250\n",
      "➡️ Updated resolution: 3.9425\n",
      "🔹 Fraction of connecting edges at resolution 3.9425: 0.0377\n",
      "🔹 Fraction of connecting edges at resolution 3.9425: 0.0377\n",
      "🔹 Fraction of connecting edges at resolution 3.9425: 0.0377\n",
      "🔹 Fraction of connecting edges at resolution 3.9425: 0.0377\n",
      "🔹 Fraction of connecting edges at resolution 3.9425: 0.0377\n",
      "➡️ Updated resolution: 4.1396\n",
      "🔹 Fraction of connecting edges at resolution 4.1396: 0.0498\n",
      "🔹 Fraction of connecting edges at resolution 4.1396: 0.0498\n",
      "🔹 Fraction of connecting edges at resolution 4.1396: 0.0498\n",
      "🔹 Fraction of connecting edges at resolution 4.1396: 0.0498\n",
      "🔹 Fraction of connecting edges at resolution 4.1396: 0.0498\n",
      "➡️ Updated resolution: 4.3466\n",
      "🔹 Fraction of connecting edges at resolution 4.3466: 0.0612\n",
      "🔹 Fraction of connecting edges at resolution 4.3466: 0.0612\n",
      "🔹 Fraction of connecting edges at resolution 4.3466: 0.0612\n",
      "🔹 Fraction of connecting edges at resolution 4.3466: 0.0612\n",
      "🔹 Fraction of connecting edges at resolution 4.3466: 0.0612\n",
      "➡️ Updated resolution: 4.564\n",
      "🔹 Fraction of connecting edges at resolution 4.5640: 0.0722\n",
      "🔹 Fraction of connecting edges at resolution 4.5640: 0.0722\n",
      "🔹 Fraction of connecting edges at resolution 4.5640: 0.0722\n",
      "🔹 Fraction of connecting edges at resolution 4.5640: 0.0722\n",
      "🔹 Fraction of connecting edges at resolution 4.5640: 0.0722\n",
      "➡️ Updated resolution: 4.7922\n",
      "🌐 After Blocking Edges Connecting Different Communities (Community Method):\n",
      "Nodes Infected = 103.70\n",
      "Infection Percentage = 5.09%\n"
     ]
    }
   ],
   "source": [
    "from Code import communities\n",
    "import networkx as nx\n",
    "\n",
    "# 📊 Set resolution and increment factor (used for Louvain community detection)\n",
    "resolution = 0.15\n",
    "increasing_factor = 1.05\n",
    "\n",
    "happened = 0\n",
    "best_p_conn = 0\n",
    "best_edges_to_remove = []\n",
    "\n",
    "# 🔍 Iteratively find connecting edges between communities\n",
    "while happened <= 5:\n",
    "    for _ in range(5):\n",
    "        comm = communities.detect_communities(graph, resolution)\n",
    "        conn_edges, comm_edges, conn_nodes = communities.connecting_edges(comm, graph)\n",
    "        p_conn = len(conn_edges) / len(edges)\n",
    "        print(f\"🔹 Fraction of connecting edges at resolution {resolution:.4f}: {p_conn:.4f}\")\n",
    "        \n",
    "        if (p_conn <= k) and (p_conn > best_p_conn):\n",
    "            best_edges_to_remove = conn_edges\n",
    "            best_p_conn = p_conn\n",
    "    \n",
    "    resolution *= increasing_factor\n",
    "    if p_conn > k:\n",
    "        happened += 1\n",
    "    print(\"➡️ Updated resolution:\", round(resolution, 4))\n",
    "\n",
    "# 🧱 Remove best connecting edges\n",
    "final_graph = communities.graph_after_rem_edges(best_edges_to_remove, graph.copy())\n",
    "\n",
    "# 🧪 Run ICM simulation\n",
    "a = influence.influence_count_multiple(final_graph, init_rate, iters)\n",
    "b = 100 * (a / len(nodes))\n",
    "\n",
    "# 📊 Display result\n",
    "print(\"🌐 After Blocking Edges Connecting Different Communities (Community Method):\")\n",
    "print(f\"Nodes Infected = {a:.2f}\")\n",
    "print(f\"Infection Percentage = {b:.2f}%\")\n"
   ]
  },
  {
   "cell_type": "markdown",
   "metadata": {},
   "source": [
    "## ICM After Edge Removal"
   ]
  },
  {
   "cell_type": "code",
   "execution_count": 41,
   "metadata": {},
   "outputs": [
    {
     "name": "stdout",
     "output_type": "stream",
     "text": [
      "✅ ICM After Blocking Edges (Post-Removal Evaluation):\n",
      "Nodes Infected = 25.10\n",
      "Infection Percentage = 1.23%\n"
     ]
    }
   ],
   "source": [
    "# 🧪 Run the Independent Cascade Model (ICM) after edge removal\n",
    "a = influence.influence_count_multiple(final_graph, init_rate, iters)\n",
    "b = 100 * (a / len(nodes))\n",
    "\n",
    "# 📊 Display results\n",
    "print(\"✅ ICM After Blocking Edges (Post-Removal Evaluation):\")\n",
    "print(f\"Nodes Infected = {a:.2f}\")\n",
    "print(f\"Infection Percentage = {b:.2f}%\")\n"
   ]
  }
 ],
 "metadata": {
  "kernelspec": {
   "display_name": "env",
   "language": "python",
   "name": "python3"
  },
  "language_info": {
   "codemirror_mode": {
    "name": "ipython",
    "version": 3
   },
   "file_extension": ".py",
   "mimetype": "text/x-python",
   "name": "python",
   "nbconvert_exporter": "python",
   "pygments_lexer": "ipython3",
   "version": "3.11.9"
  }
 },
 "nbformat": 4,
 "nbformat_minor": 4
}
